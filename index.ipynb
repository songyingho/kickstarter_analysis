{
 "cells": [
  {
   "cell_type": "code",
   "execution_count": 136,
   "metadata": {
    "ExecuteTime": {
     "end_time": "2020-06-06T08:59:13.101825Z",
     "start_time": "2020-06-06T08:59:13.097828Z"
    }
   },
   "outputs": [],
   "source": [
    "import pandas as pd\n",
    "import numpy as np"
   ]
  },
  {
   "cell_type": "code",
   "execution_count": 137,
   "metadata": {
    "ExecuteTime": {
     "end_time": "2020-06-06T08:59:14.691537Z",
     "start_time": "2020-06-06T08:59:13.511218Z"
    }
   },
   "outputs": [],
   "source": [
    "df18 = pd.read_csv('ks-projects-201801.csv', encoding='latin1', low_memory=False)"
   ]
  },
  {
   "cell_type": "code",
   "execution_count": 138,
   "metadata": {
    "ExecuteTime": {
     "end_time": "2020-06-06T08:59:14.838452Z",
     "start_time": "2020-06-06T08:59:14.693536Z"
    }
   },
   "outputs": [],
   "source": [
    "df = df18[df18['name'].isna() == False]\n",
    "df = df.drop(columns='usd pledged', axis = 1)\n",
    "df.reset_index(drop = True, inplace = True)"
   ]
  },
  {
   "cell_type": "code",
   "execution_count": 139,
   "metadata": {
    "ExecuteTime": {
     "end_time": "2020-06-06T08:59:24.377906Z",
     "start_time": "2020-06-06T08:59:15.259446Z"
    }
   },
   "outputs": [],
   "source": [
    "# EU Probability Distribution\n",
    "df_eu = df[df['currency'] == 'EUR']\n",
    "\n",
    "choice = sorted(df_eu[df_eu['country'] != 'N,0\"']['country'].unique())\n",
    "prob = df_eu[df_eu['country'] != 'N,0\"']['country'].value_counts(normalize=True).sort_index()\n",
    "\n",
    "# To impute undefined country by their currencies\n",
    "country = []\n",
    "for i in range(0,len(df['country'])):\n",
    "    if df['country'][i] != 'N,0\"':\n",
    "        country.append(df['country'][i])\n",
    "    else:\n",
    "        if df['currency'][i] != 'EUR':\n",
    "            country.append(df['currency'][i][:2])\n",
    "        elif df['currency'][i] == 'EUR':\n",
    "            country.append(np.random.choice(choice, 1, p= prob)[0]) \n",
    "            \n",
    "# Overwrite data in df\n",
    "df['country'] = country"
   ]
  },
  {
   "cell_type": "code",
   "execution_count": 161,
   "metadata": {
    "ExecuteTime": {
     "end_time": "2020-06-06T09:14:22.306138Z",
     "start_time": "2020-06-06T09:14:22.205199Z"
    }
   },
   "outputs": [],
   "source": [
    "# Create 2 new columns describing funding percentage and average amount pledged by backers\n",
    "df['funding_perc'] = round((df['usd_pledged_real']/df['usd_goal_real']) * 100, 2)\n",
    "\n",
    "df['average_pledged'] = round(df['usd_pledged_real']/df['backers'], 2)\n",
    "df['average_pledged'].fillna(value = 0, inplace = True)\n",
    "df = df[df['average_pledged'] != np.inf]\n",
    "df.reset_index(drop = True, inplace = True)"
   ]
  },
  {
   "cell_type": "code",
   "execution_count": 168,
   "metadata": {
    "ExecuteTime": {
     "end_time": "2020-06-06T09:16:30.240759Z",
     "start_time": "2020-06-06T09:16:22.834966Z"
    }
   },
   "outputs": [],
   "source": [
    "# Change state to boolean \n",
    "state = []\n",
    "for i in range(0, len(df)):\n",
    "    if df['state'][i] == 'failed' or df['state'][i] == 'canceled':\n",
    "        state.append(0)\n",
    "    elif df['state'][i] == 'successful':\n",
    "        state.append(1)\n",
    "    else:\n",
    "        state.append(np.nan)\n",
    "\n",
    "df['state'] = state\n",
    "df = df[df['state'].isna() != True]\n",
    "df.reset_index(drop = True, inplace = True)"
   ]
  },
  {
   "cell_type": "code",
   "execution_count": 192,
   "metadata": {
    "ExecuteTime": {
     "end_time": "2020-06-06T14:17:17.716584Z",
     "start_time": "2020-06-06T14:17:17.697594Z"
    },
    "scrolled": true
   },
   "outputs": [
    {
     "data": {
      "text/html": [
       "<div>\n",
       "<style scoped>\n",
       "    .dataframe tbody tr th:only-of-type {\n",
       "        vertical-align: middle;\n",
       "    }\n",
       "\n",
       "    .dataframe tbody tr th {\n",
       "        vertical-align: top;\n",
       "    }\n",
       "\n",
       "    .dataframe thead th {\n",
       "        text-align: right;\n",
       "    }\n",
       "</style>\n",
       "<table border=\"1\" class=\"dataframe\">\n",
       "  <thead>\n",
       "    <tr style=\"text-align: right;\">\n",
       "      <th></th>\n",
       "      <th>ID</th>\n",
       "      <th>name</th>\n",
       "      <th>category</th>\n",
       "      <th>main_category</th>\n",
       "      <th>currency</th>\n",
       "      <th>deadline</th>\n",
       "      <th>goal</th>\n",
       "      <th>launched</th>\n",
       "      <th>pledged</th>\n",
       "      <th>state</th>\n",
       "      <th>backers</th>\n",
       "      <th>country</th>\n",
       "      <th>usd_pledged_real</th>\n",
       "      <th>usd_goal_real</th>\n",
       "      <th>funding_perc</th>\n",
       "      <th>average_pledged</th>\n",
       "    </tr>\n",
       "  </thead>\n",
       "  <tbody>\n",
       "    <tr>\n",
       "      <td>360997</td>\n",
       "      <td>9509582</td>\n",
       "      <td>VULFPECK /// The Beautiful Game</td>\n",
       "      <td>Music</td>\n",
       "      <td>Music</td>\n",
       "      <td>USD</td>\n",
       "      <td>2016-10-17</td>\n",
       "      <td>1.0</td>\n",
       "      <td>2016-08-18 09:04:03</td>\n",
       "      <td>104277.89</td>\n",
       "      <td>1</td>\n",
       "      <td>3917</td>\n",
       "      <td>US</td>\n",
       "      <td>104277.89</td>\n",
       "      <td>1.0</td>\n",
       "      <td>10427789.0</td>\n",
       "      <td>26.62</td>\n",
       "    </tr>\n",
       "  </tbody>\n",
       "</table>\n",
       "</div>"
      ],
      "text/plain": [
       "             ID                             name category main_category  \\\n",
       "360997  9509582  VULFPECK /// The Beautiful Game    Music         Music   \n",
       "\n",
       "       currency    deadline  goal             launched    pledged  state  \\\n",
       "360997      USD  2016-10-17   1.0  2016-08-18 09:04:03  104277.89      1   \n",
       "\n",
       "        backers country  usd_pledged_real  usd_goal_real  funding_perc  \\\n",
       "360997     3917      US         104277.89            1.0    10427789.0   \n",
       "\n",
       "        average_pledged  \n",
       "360997            26.62  "
      ]
     },
     "execution_count": 192,
     "metadata": {},
     "output_type": "execute_result"
    }
   ],
   "source": [
    "df[df['funding_perc'] == 10427789]"
   ]
  },
  {
   "cell_type": "code",
   "execution_count": null,
   "metadata": {},
   "outputs": [],
   "source": []
  },
  {
   "cell_type": "code",
   "execution_count": 195,
   "metadata": {
    "ExecuteTime": {
     "end_time": "2020-06-06T14:32:14.812979Z",
     "start_time": "2020-06-06T14:32:13.818566Z"
    }
   },
   "outputs": [
    {
     "name": "stdout",
     "output_type": "stream",
     "text": [
      "Publishing\n",
      "Average Percentage Funded: 8\n",
      "Average Backers: 7\n",
      "\n",
      "Film & Video\n",
      "Average Percentage Funded: 13\n",
      "Average Backers: 12\n",
      "\n",
      "Music\n",
      "Average Percentage Funded: 56\n",
      "Average Backers: 19\n",
      "\n",
      "Food\n",
      "Average Percentage Funded: 4\n",
      "Average Backers: 6\n",
      "\n",
      "Design\n",
      "Average Percentage Funded: 23\n",
      "Average Backers: 29\n",
      "\n",
      "Crafts\n",
      "Average Percentage Funded: 5\n",
      "Average Backers: 3\n",
      "\n",
      "Games\n",
      "Average Percentage Funded: 20\n",
      "Average Backers: 30\n",
      "\n",
      "Comics\n",
      "Average Percentage Funded: 103\n",
      "Average Backers: 40\n",
      "\n",
      "Fashion\n",
      "Average Percentage Funded: 6\n",
      "Average Backers: 5\n",
      "\n",
      "Theater\n",
      "Average Percentage Funded: 101\n",
      "Average Backers: 25\n",
      "\n",
      "Art\n",
      "Average Percentage Funded: 23\n",
      "Average Backers: 10\n",
      "\n",
      "Photography\n",
      "Average Percentage Funded: 8\n",
      "Average Backers: 6\n",
      "\n",
      "Technology\n",
      "Average Percentage Funded: 2\n",
      "Average Backers: 7\n",
      "\n",
      "Dance\n",
      "Average Percentage Funded: 102\n",
      "Average Backers: 27\n",
      "\n",
      "Journalism\n",
      "Average Percentage Funded: 1\n",
      "Average Backers: 3\n",
      "\n"
     ]
    }
   ],
   "source": [
    "for i in df.main_category.unique():\n",
    "    print(i)\n",
    "    print(f\"Average Percentage Funded: {int(round(df[df['main_category'] == i]['funding_perc'].median(), 0))}\")\n",
    "    print(f\"Average Backers: {int(round(df[df['main_category'] == i]['backers'].median(), 0))}\")      \n",
    "    print(\"\")"
   ]
  },
  {
   "cell_type": "code",
   "execution_count": 170,
   "metadata": {
    "ExecuteTime": {
     "end_time": "2020-06-06T09:21:10.730789Z",
     "start_time": "2020-06-06T09:21:08.720636Z"
    }
   },
   "outputs": [
    {
     "name": "stdout",
     "output_type": "stream",
     "text": [
      "Publishing\n",
      "Mean Goal  : $ 22601         Mean Pledged  : $ 3400\n",
      "Median Goal: $ 5000          Median Pledged: $ 293\n",
      "\n",
      "Film & Video\n",
      "Mean Goal  : $ 82406         Mean Pledged  : $ 6250\n",
      "Median Goal: $ 7000          Median Pledged: $ 760\n",
      "\n",
      "Music\n",
      "Mean Goal  : $ 15752         Mean Pledged  : $ 3926\n",
      "Median Goal: $ 4000          Median Pledged: $ 1009\n",
      "\n",
      "Food\n",
      "Mean Goal  : $ 48664         Mean Pledged  : $ 5141\n",
      "Median Goal: $ 10000          Median Pledged: $ 260\n",
      "\n",
      "Design\n",
      "Mean Goal  : $ 42200         Mean Pledged  : $ 24548\n",
      "Median Goal: $ 10000          Median Pledged: $ 1926\n",
      "\n",
      "Crafts\n",
      "Mean Goal  : $ 10423         Mean Pledged  : $ 1651\n",
      "Median Goal: $ 2330          Median Pledged: $ 95\n",
      "\n",
      "Games\n",
      "Mean Goal  : $ 45150         Mean Pledged  : $ 21290\n",
      "Median Goal: $ 8000          Median Pledged: $ 1324\n",
      "\n",
      "Comics\n",
      "Mean Goal  : $ 19676         Mean Pledged  : $ 6654\n",
      "Median Goal: $ 3500          Median Pledged: $ 1506\n",
      "\n",
      "Fashion\n",
      "Mean Goal  : $ 22530         Mean Pledged  : $ 5763\n",
      "Median Goal: $ 5982          Median Pledged: $ 245\n",
      "\n",
      "Theater\n",
      "Mean Goal  : $ 27147         Mean Pledged  : $ 4017\n",
      "Median Goal: $ 3300          Median Pledged: $ 1567\n",
      "\n",
      "Art\n",
      "Mean Goal  : $ 39468         Mean Pledged  : $ 3236\n",
      "Median Goal: $ 3000          Median Pledged: $ 432\n",
      "\n",
      "Photography\n",
      "Mean Goal  : $ 12267         Mean Pledged  : $ 3585\n",
      "Median Goal: $ 4000          Median Pledged: $ 245\n",
      "\n",
      "Technology\n",
      "Mean Goal  : $ 102059         Mean Pledged  : $ 21102\n",
      "Median Goal: $ 20000          Median Pledged: $ 317\n",
      "\n",
      "Dance\n",
      "Mean Goal  : $ 9409         Mean Pledged  : $ 3478\n",
      "Median Goal: $ 3310          Median Pledged: $ 1866\n",
      "\n",
      "Journalism\n",
      "Mean Goal  : $ 65539         Mean Pledged  : $ 2642\n",
      "Median Goal: $ 5000          Median Pledged: $ 55\n",
      "\n"
     ]
    }
   ],
   "source": [
    "for i in df.main_category.unique():\n",
    "    print(i)\n",
    "    print(f\"Mean Goal  : $ {int(round(df[df['main_category'] == i]['usd_goal_real'].mean(), 0))}         Mean Pledged  : $ {int(round(df[df['main_category'] == i]['usd_pledged_real'].mean(), 0))}\")\n",
    "    print(f\"Median Goal: $ {int(df[df['main_category'] == i]['usd_goal_real'].median())}          Median Pledged: $ {int(round(df[df['main_category'] == i]['usd_pledged_real'].median(), 0))}\")\n",
    "    print(\"\")"
   ]
  }
 ],
 "metadata": {
  "kernelspec": {
   "display_name": "Python 3",
   "language": "python",
   "name": "python3"
  },
  "language_info": {
   "codemirror_mode": {
    "name": "ipython",
    "version": 3
   },
   "file_extension": ".py",
   "mimetype": "text/x-python",
   "name": "python",
   "nbconvert_exporter": "python",
   "pygments_lexer": "ipython3",
   "version": "3.7.4"
  },
  "toc": {
   "base_numbering": 1,
   "nav_menu": {},
   "number_sections": true,
   "sideBar": true,
   "skip_h1_title": false,
   "title_cell": "Table of Contents",
   "title_sidebar": "Contents",
   "toc_cell": false,
   "toc_position": {},
   "toc_section_display": true,
   "toc_window_display": false
  }
 },
 "nbformat": 4,
 "nbformat_minor": 2
}
